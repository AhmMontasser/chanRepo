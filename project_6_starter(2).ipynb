{
 "cells": [
  {
   "cell_type": "markdown",
   "metadata": {},
   "source": [
    "# Project 6: Analyzing Stock Sentiment from Twits\n",
    "## Instructions\n",
    "Each problem consists of a function to implement and instructions on how to implement the function.  The parts of the function that need to be implemented are marked with a `# TODO` comment.\n",
    "\n",
    "## Packages\n",
    "When you implement the functions, you'll only need to you use the packages you've used in the classroom, like [Pandas](https://pandas.pydata.org/) and [Numpy](http://www.numpy.org/). These packages will be imported for you. We recommend you don't add any import statements, otherwise the grader might not be able to run your code.\n",
    "\n",
    "### Load Packages"
   ]
  },
  {
   "cell_type": "code",
   "execution_count": 1,
   "metadata": {},
   "outputs": [],
   "source": [
    "import json\n",
    "import nltk\n",
    "import os\n",
    "import random\n",
    "import re\n",
    "import torch\n",
    "\n",
    "from torch import nn, optim\n",
    "import torch.nn.functional as F"
   ]
  },
  {
   "cell_type": "markdown",
   "metadata": {},
   "source": [
    "## Introduction\n",
    "When deciding the value of a company, it's important to follow the news. For example, a product recall or natural disaster in a company's product chain. You want to be able to turn this information into a signal. Currently, the best tool for the job is a Neural Network. \n",
    "\n",
    "For this project, you'll use posts from the social media site [StockTwits](https://en.wikipedia.org/wiki/StockTwits). The community on StockTwits is full of investors, traders, and entrepreneurs. Each message posted is called a Twit. This is similar to Twitter's version of a post, called a Tweet. You'll build a model around these twits that generate a sentiment score.\n",
    "\n",
    "We've collected a bunch of twits, then hand labeled the sentiment of each. To capture the degree of sentiment, we'll use a five-point scale: very negative, negative, neutral, positive, very positive. Each twit is labeled -2 to 2 in steps of 1, from very negative to very positive respectively. You'll build a sentiment analysis model that will learn to assign sentiment to twits on its own, using this labeled data.\n",
    "\n",
    "The first thing we should to do, is load the data.\n",
    "\n",
    "## Import Twits \n",
    "### Load Twits Data \n",
    "This JSON file contains a list of objects for each twit in the `'data'` field:\n",
    "\n",
    "```\n",
    "{'data':\n",
    "  {'message_body': 'Neutral twit body text here',\n",
    "   'sentiment': 0},\n",
    "  {'message_body': 'Happy twit body text here',\n",
    "   'sentiment': 1},\n",
    "   ...\n",
    "}\n",
    "```\n",
    "\n",
    "The fields represent the following:\n",
    "\n",
    "* `'message_body'`: The text of the twit.\n",
    "* `'sentiment'`: Sentiment score for the twit, ranges from -2 to 2 in steps of 1, with 0 being neutral.\n",
    "\n",
    "\n",
    "To see what the data look like by printing the first 10 twits from the list. "
   ]
  },
  {
   "cell_type": "code",
   "execution_count": 2,
   "metadata": {},
   "outputs": [
    {
     "name": "stdout",
     "output_type": "stream",
     "text": [
      "[{'message_body': '$FITB great buy at 26.00...ill wait', 'sentiment': 2, 'timestamp': '2018-07-01T00:00:09Z'}, {'message_body': '@StockTwits $MSFT', 'sentiment': 1, 'timestamp': '2018-07-01T00:00:42Z'}, {'message_body': '#STAAnalystAlert for $TDG : Jefferies Maintains with a rating of Hold setting target price at USD 350.00. Our own verdict is Buy  http://www.stocktargetadvisor.com/toprating', 'sentiment': 2, 'timestamp': '2018-07-01T00:01:24Z'}, {'message_body': '$AMD I heard there’s a guy who knows someone who thinks somebody knows something - on StockTwits.', 'sentiment': 1, 'timestamp': '2018-07-01T00:01:47Z'}, {'message_body': '$AMD reveal yourself!', 'sentiment': 0, 'timestamp': '2018-07-01T00:02:13Z'}, {'message_body': '$AAPL Why the drop? I warren Buffet taking out his position?', 'sentiment': 1, 'timestamp': '2018-07-01T00:03:10Z'}, {'message_body': '$BA bears have 1 reason on 06-29 to pay more attention https://dividendbot.com?s=BA', 'sentiment': -2, 'timestamp': '2018-07-01T00:04:09Z'}, {'message_body': '$BAC ok good we&#39;re not dropping in price over the weekend, lol', 'sentiment': 1, 'timestamp': '2018-07-01T00:04:17Z'}, {'message_body': '$AMAT - Daily Chart, we need to get back to above 50.', 'sentiment': 2, 'timestamp': '2018-07-01T00:08:01Z'}, {'message_body': '$GME 3% drop per week after spike... if no news in 3 months, back to 12s... if BO, then bingo... what is the odds?', 'sentiment': -2, 'timestamp': '2018-07-01T00:09:03Z'}]\n"
     ]
    }
   ],
   "source": [
    "with open(os.path.join('..', '..', 'data', 'project_6_stocktwits', 'twits.json'), 'r') as f:\n",
    "    twits = json.load(f)\n",
    "\n",
    "print(twits['data'][:10])"
   ]
  },
  {
   "cell_type": "markdown",
   "metadata": {},
   "source": [
    "### Length of Data\n",
    "Now let's look at the number of twits in dataset. Print the number of twits below."
   ]
  },
  {
   "cell_type": "code",
   "execution_count": 3,
   "metadata": {},
   "outputs": [
    {
     "name": "stdout",
     "output_type": "stream",
     "text": [
      "1548010\n"
     ]
    }
   ],
   "source": [
    "\"\"\"print out the number of twits\"\"\"\n",
    "\n",
    "# TODO Implement \n",
    "\n",
    "print(len(twits['data']))"
   ]
  },
  {
   "cell_type": "markdown",
   "metadata": {},
   "source": [
    "### Split Message Body and Sentiment Score"
   ]
  },
  {
   "cell_type": "code",
   "execution_count": 4,
   "metadata": {},
   "outputs": [
    {
     "name": "stdout",
     "output_type": "stream",
     "text": [
      "$fitb great buy at 26.00...ill wait\n"
     ]
    }
   ],
   "source": [
    "messages = [twit['message_body'] for twit in twits['data']]\n",
    "print(messages[0].lower())\n",
    "# Since the sentiment scores are discrete, we'll scale the sentiments to 0 to 4 for use in our network\n",
    "sentiments = [twit['sentiment'] + 2 for twit in twits['data']]"
   ]
  },
  {
   "cell_type": "markdown",
   "metadata": {},
   "source": [
    "## Preprocessing the Data\n",
    "With our data in hand we need to preprocess our text. These twits are collected by filtering on ticker symbols where these are denoted with a leader $ symbol in the twit itself. For example,\n",
    "\n",
    "`{'message_body': 'RT @google Our annual look at the year in Google blogging (and beyond) http://t.co/sptHOAh8 $GOOG',\n",
    " 'sentiment': 0}`\n",
    "\n",
    "The ticker symbols don't provide information on the sentiment, and they are in every twit, so we should remove them. This twit also has the `@google` username, again not providing sentiment information, so we should also remove it. We also see a URL `http://t.co/sptHOAh8`. Let's remove these too.\n",
    "\n",
    "The easiest way to remove specific words or phrases is with regex using the `re` module. You can sub out specific patterns with a space:\n",
    "\n",
    "```python\n",
    "re.sub(pattern, ' ', text)\n",
    "```\n",
    "This will substitute a space with anywhere the pattern matches in the text. Later when we tokenize the text, we'll split appropriately on those spaces."
   ]
  },
  {
   "cell_type": "markdown",
   "metadata": {},
   "source": [
    "### Pre-Processing"
   ]
  },
  {
   "cell_type": "code",
   "execution_count": 5,
   "metadata": {},
   "outputs": [
    {
     "name": "stdout",
     "output_type": "stream",
     "text": [
      "[nltk_data] Downloading package wordnet to /root/nltk_data...\n",
      "[nltk_data]   Unzipping corpora/wordnet.zip.\n"
     ]
    }
   ],
   "source": [
    "nltk.download('wordnet')\n",
    "import re\n",
    "\n",
    "def preprocess(message):\n",
    "    \"\"\"\n",
    "    This function takes a string as input, then performs these operations: \n",
    "        - lowercase\n",
    "        - remove URLs\n",
    "        - remove ticker symbols \n",
    "        - removes punctuation\n",
    "        - tokenize by splitting the string on whitespace \n",
    "        - removes any single character tokens\n",
    "    \n",
    "    Parameters\n",
    "    ----------\n",
    "        message : The text message to be preprocessed.\n",
    "        \n",
    "    Returns\n",
    "    -------\n",
    "        tokens: The preprocessed text into tokens.\n",
    "    \"\"\" \n",
    "    #TODO: Implement \n",
    "    \n",
    "    # Lowercase the twit message\n",
    "    text = message.lower()\n",
    "    \n",
    "    # Replace URLs with a space in the message\n",
    "    pattern='https?://(?:[-\\w.]|(?:%[\\da-fA-F]{2}))+'\n",
    "    text = re.sub(pattern, ' ', text)\n",
    "    \n",
    "    # Replace ticker symbols with a space. The ticker symbols are any stock symbol that starts with $.\n",
    "    pattern='\\$[A-Z|a-z]*'\n",
    "    text = re.sub(pattern, ' ', text)\n",
    "    \n",
    "    # Replace StockTwits usernames with a space. The usernames are any word that starts with @.\n",
    "    pattern = '\\@[A-Z|a-z|0-9]*'\n",
    "    text = re.sub(pattern, ' ', text)\n",
    "\n",
    "    # Replace everything not a letter with a space\n",
    "    pattern='[^a-zA-Z]'\n",
    "    text = re.sub(pattern, ' ', text)\n",
    "    \n",
    "    # Tokenize by splitting the string on whitespace into a list of words\n",
    "    tokens = text.split()\n",
    "\n",
    "    # Lemmatize words using the WordNetLemmatizer. You can ignore any word that is not longer than one character.\n",
    "    wnl = nltk.stem.WordNetLemmatizer()\n",
    "    #for i in range(0,len(tokens)):\n",
    "    temp=[wnl.lemmatize(word) for word in tokens if(len(word)>1)]\n",
    "    #print(len(temp),len(tokens))\n",
    "    tokens = temp\n",
    "    \n",
    "    return tokens"
   ]
  },
  {
   "cell_type": "markdown",
   "metadata": {},
   "source": [
    "### Preprocess All the Twits \n",
    "Now we can preprocess each of the twits in our dataset. Apply the function `preprocess` to all the twit messages."
   ]
  },
  {
   "cell_type": "code",
   "execution_count": 6,
   "metadata": {},
   "outputs": [
    {
     "name": "stdout",
     "output_type": "stream",
     "text": [
      "[['great', 'buy', 'at', 'ill', 'wait'], [], ['staanalystalert', 'for', 'jefferies', 'maintains', 'with', 'rating', 'of', 'hold', 'setting', 'target', 'price', 'at', 'usd', 'our', 'own', 'verdict', 'is', 'buy', 'toprating'], ['heard', 'there', 'guy', 'who', 'know', 'someone', 'who', 'think', 'somebody', 'know', 'something', 'on', 'stocktwits'], ['reveal', 'yourself'], ['why', 'the', 'drop', 'warren', 'buffet', 'taking', 'out', 'his', 'position'], ['bear', 'have', 'reason', 'on', 'to', 'pay', 'more', 'attention', 'ba'], ['ok', 'good', 'we', 're', 'not', 'dropping', 'in', 'price', 'over', 'the', 'weekend', 'lol'], ['daily', 'chart', 'we', 'need', 'to', 'get', 'back', 'to', 'above'], ['drop', 'per', 'week', 'after', 'spike', 'if', 'no', 'news', 'in', 'month', 'back', 'to', 'if', 'bo', 'then', 'bingo', 'what', 'is', 'the', 'odds'], ['strong', 'buy'], ['short', 'ratio', 'is', 'at', 'and', 'short', 'to', 'float', 'is', 'stock', 'snp', 'via'], ['price', 'squeezing', 'perfect', 'place', 'for', 'an', 'option', 'straddle', 'near', 'the', 'supporting', 'trend'], ['start', 'of', 'new', 'on', 'monday', 'expect', 'strong', 'buy', 'volume', 'across', 'key', 'company', 'of', 'various', 'sector'], ['breakout', 'strategy', 'current', 'portfolio'], ['bull', 'have', 'reason', 'on', 'to', 'pay', 'more', 'attention', 'pfe'], ['catalyst', 'continuing', 'this', 'new', 'uptrend', 'pill', 'pack', 'buy', 'out', 'amazon', 'prime', 'day', 'earnings', 'test', 'break', 'of', 'soon'], ['ha', 'moved', 'on', 'check', 'out', 'the', 'movement', 'and', 'peer', 'at', 'aapl'], ['staanalystalert', 'for', 'mkm', 'partner', 'set', 'price', 'target', 'with', 'rating', 'of', 'buy', 'setting', 'target', 'price', 'at', 'usd', 'our', 'own', 'verdict', 'is', 'buy', 'toprating'], ['think', 'it', 'is', 'too', 'early', 'to', 'tell', 'what', 'going', 'to', 'happen', 'monday', 'even', 'with', 'the', 'current', 'news', 'about', 'raisinf', 'output', 'there', 'is', 'still', 'so', 'many'], ['ha', 'current', 'ratio', 'of', 'so', 'it', 'is', 'financially', 'healthy', 'and', 'ha', 'no', 'problem', 'in', 'meeting', 'it', 'obligation', 'analyze', 'php', 'utm', 'source', 'stocktwits', 'amp', 'utm', 'medium', 'fa', 'amp', 'utm', 'content', 'health', 'amp', 'utm', 'campaign', 'social', 'tracking', 'nke', 'fa', 'amp', 'key', 'fee'], ['bullish', 'stock', 'to', 'watch', 'setup', 'timeframes', 'bullish', 'stock', 'twitter', 'twtr', 'and', 'michael', 'kor', 'blog', 'by'], ['just', 'short', 'it'], ['high', 'alert', 'for', 'next', 'week', 'gt', 'breakdown'], ['the', 'current', 'ratio', 'of', 'is', 'much', 'better', 'than', 'the', 'industry', 'average', 'of', 'analyze', 'php', 'utm', 'source', 'stocktwits', 'amp', 'utm', 'medium', 'fa', 'amp', 'utm', 'content', 'health', 'amp', 'utm', 'campaign', 'social', 'tracking', 'fslr', 'fa', 'amp', 'key', 'cf', 'ec', 'be'], ['miss', 'these', 'day'], ['if', 'break', 'and', 'confirms', 'next', 'week', 'you', 'will', 'see', 'violent', 'move', 'downward', 'to', 'my', 'buy', 'price'], ['bear', 'have', 'reason', 'on', 'to', 'pay', 'more', 'attention', 'cv'], ['breakout', 'base', 'gap', 'and', 'day', 'ma', 'gap', 'gap', 'gap', 'and', 'day', 'ma'], ['cabot', 'weekly', 'video', 'quot', 'resilient', 'growth', 'stock', 'to', 'watch', 'quot', 'kj', 'fnd'], ['when', 'wa', 'kid', 'my', 'froend', 'told', 'me', 'the', 'moon', 'wa', 'made', 'out', 'of', 'cheese'], ['short', 'volume', 'percent', 'for', 'wa', 'on', 'and', 'day', 'rank', 'wa', 'th', 'percentile', 'uri'], ['thank', 'you', 'don', 'feel', 'the', 'need', 'to', 'tell', 'or', 'to', 'do', 'well', 'for', 'me', 'they', 'already', 'have'], ['during', 'the', 'youtube', 'interview', 'mitch', 'couldn', 'remember', 'single', 'movie', 'he', 'watched', 'all', 'year', 'except', 'star', 'war', 'black', 'panther', 'clothes'], ['staanalystalert', 'for', 'jefferies', 'downgrade', 'with', 'rating', 'of', 'hold', 'setting', 'target', 'price', 'at', 'usd', 'our', 'own', 'verdict', 'is', 'hold', 'toprating'], ['short', 'sale', 'volume', 'not', 'short', 'interest', 'for', 'on', 'is', 'ntap', 'via'], ['ha', 'better', 'return', 'on', 'equity', 'than', 'the', 'industry', 'average', 'of', 'analyze', 'php', 'utm', 'source', 'stocktwits', 'amp', 'utm', 'medium', 'fa', 'amp', 'utm', 'content', 'profitability', 'amp', 'utm', 'campaign', 'social', 'tracking', 'fa', 'amp', 'key'], ['although', 'the', 'market', 'is', 'up', 'is', 'doing', 'even', 'better', 'it', 'ha', 'advanced', 'a', 'of', 'more', 'info', 'peer', 'at', 'txn'], ['july', 'will', 'be', 'the', 'most', 'bullish', 'day', 'of', 'the', 'year', 'for', 'stock'], ['option', 'volume', 'wa', 'normal', 'on', 'friday', 'with', 'contract', 'call', 'volume', 'wa', 'and', 'put', 'volume', 'wa', 'ue'], ['third', 'design', 'win', 'the', 'timing', 'match', 'it', 'probably', 'arm', 'site', 'ewanspence', 'surface', 'andromeda', 'windowsphone', 'window', 'tablet', 'leak', 'rumor', 'spec', 'release', 'date', 'bec'], ['alcohol', 'stock', 'tobacco', 'stock', 'and', 'firearm', 'stock', 'to', 'buy', 'kdqyur'], ['president', 'trump', 'tweet', 'just', 'spoke', 'to', 'king', 'salman', 'of', 'saudi', 'arabia', 'and', 'explained', 'to', 'him', 'that', 'because', 'of', 'the', 'turmoil', 'amp'], ['today', 'insight', 'on', 'tool', 'tap'], ['intc', 'mama', 'said', 'get', 'ice', 'cream', 'if', 'finish', 'my', 'due', 'dil'], ['just', 'noticed', 'they', 'have', 'the', 'last', 'jedi', 'on', 'stream', 'love', 'this', 'stock'], ['here', 'you', 'go', 'will', 'just', 'leave', 'this', 'here'], ['good', 'view', 'daily', 'still', 'look', 'good', 'ema', 'held', 'above', 'ema', 'and', 'stochastics', 'turning', 'healthy', 'a', 'spy', 'qqq', 'opposite'], ['with', 'forward', 'pe', 'of', 'the', 'valuation', 'of', 'can', 'be', 'described', 'a', 'cheap', 'analyze', 'php', 'utm', 'source', 'stocktwits', 'amp', 'utm', 'medium', 'fa', 'amp', 'utm', 'content', 'valuation', 'amp', 'utm', 'campaign', 'social', 'tracking', 'mu', 'fa', 'amp', 'key', 'fbab', 'cf', 'daf'], ['saber', 'capital', 'presentation', 'common', 'denominator', 'of', 'tencent', 'facebook', 'and', 'google', 'saber', 'capital', 'common', 'denominator', 'of', 'tencent', 'facebook', 'google'], ['how', 'expect', 'the', 'earnings'], ['is', 'one', 'of', 'the', 'better', 'performing', 'stock', 'in', 'the', 'crude', 'petroleum', 'and', 'natural', 'gas', 'industry', 'analyze', 'php', 'utm', 'source', 'stocktwits', 'amp', 'utm', 'medium', 'ta', 'amp', 'utm', 'content', 'ta', 'amp', 'utm', 'campaign', 'social', 'tracking', 'dnr', 'key', 'ff', 'aa'], ['pu', 'it', 'simply', 'havent', 'lost', 'on', 'any', 'brown', 'guy', 'run', 'tech', 'company', 'mf', 'are', 'well', 'educated', 'know', 'their', 'shit', 'more', 'more', 'every', 'year'], ['former', 'president', 'of', 'global', 'manufacturing', 'at', 'pfizer', 'is', 'an', 'independent', 'director', 'at', 'nat', 'ricciardi'], ['may', 'be', 'the', 'safest', 'stock', 'own'], ['special', 'limited', 'offer', 'june', 'th', 'june', 'th', 'tradenet', 'is', 'offering', 'discount', 'on', 'intro', 'program', 'limitedtime', 'offer', 'campaign', 'id', 'pnwd', 'amp', 'affiliateorg', 'tradenet', 'amp', 'affiliateid', 'amp', 'affiliatedata'], ['below', 'buy', 'put', 'on', 'financials'], ['great', 'summary', 'of', 'jeff', 'gundlach', 'sohn', 'presentation', 'long', 'thesis', 'for', 'energy', 'stock', 'jeffrey', 'gundlach', 'long', 'energy', 'stock', 'short', 'facebook'], ['low', 'peg', 'ratio', 'which', 'compensates', 'the', 'pe', 'for', 'growth', 'indicates', 'rather', 'cheap', 'valuation', 'analyze', 'php', 'utm', 'source', 'stocktwits', 'amp', 'utm', 'medium', 'fa', 'amp', 'utm', 'content', 'valuation', 'amp', 'utm', 'campaign', 'social', 'tracking', 'hpq', 'fa', 'amp', 'key', 'ac', 'fe'], ['great', 'summary', 'of', 'jeff', 'gundlach', 'sohn', 'pres', 'long', 'thesis', 'for', 'energy', 'equity', 'jeffrey', 'gundlach', 'long', 'energy', 'stock', 'short', 'facebook'], ['coming'], ['seems', 'is', 'the', 'support', 'next', 'if', 'under', 'is', 'likely'], ['ha', 'moved', 'on', 'check', 'out', 'the', 'movement', 'and', 'peer', 'at', 'wba'], ['bullshit', 'worthless', 'mean', 'fucking', 'nothing', 'this', 'is', 'macau', 'not', 'fucking', 'usa'], ['take', 'this', 'let', 'me', 'know', 'where', 'are', 'we', 'right', 'now', 'lol'], ['the', 'chart', 'look', 'so', 'ugly', 'without', 'clear', 'support', 'level', 'short', 'term', 'bearish', 'll', 'buy', 'when', 'this', 'is', 'at'], ['great', 'summary', 'of', 'jeff', 'gundlach', 'sohn', 'presentation', 'long', 'thesis', 'for', 'energy', 'stock', 'jeffrey', 'gundlach', 'long', 'energy', 'stock', 'short', 'facebook'], ['previously', 'there', 'wa', 'mo', 'run', 'up', 'followed', 'by', 'drop', 'we', 'are', 'at', 'the', 'end', 'of', 'month', 'of', 'another', 'runup', 'and', 'have', 'dropped', 'about'], ['smart', 'money', 'betting', 'on', 'call', 'deal', 'update', 'article', 'uk', 'indonesia', 'rio', 'tinto', 'grasberg', 'indonesia', 'inalum', 'close', 'to', 'acquiring', 'rio', 'interest', 'in', 'grasberg', 'copper', 'mine', 'official', 'idukkbn', 'jq'], ['although', 'the', 'technical', 'rating', 'is', 'bad', 'doe', 'present', 'nice', 'setup', 'opportunity', 'analyze', 'php', 'utm', 'source', 'stocktwits', 'amp', 'utm', 'medium', 'ta', 'amp', 'utm', 'content', 'setup', 'amp', 'utm', 'campaign', 'social', 'tracking', 'wynn', 'key', 'ceb', 'da', 'bc'], ['will', 'completely', 'scale', 'out', 'in', 'time', 'to', 'gobble', 'up', 'my', 'next', 'long', 'play', 'aka', 'my', 'favorite', 'gt'], ['short', 'sale', 'volume', 'not', 'short', 'interest', 'for', 'is', 'pwr', 'via'], ['them', 'are', 'iddy', 'bitty', 'kiddy', 'hand'], ['short', 'interest', 'ratio', 'of', 'is', 'at', 'and', 'short', 'to', 'float', 'is', 'stock', 'urbn', 'via'], ['then', 'awesome', 'it', 'is', 'now', 'be', 'concerned', 'if', 'not', 'over', 'by', 'eow', 'might', 'get', 'under', 'next', 'wk', 'or', 'soon'], ['throwback'], ['staanalystalert', 'for', 'u', 'capital', 'advisor', 'upgrade', 'with', 'rating', 'of', 'hold', 'our', 'own', 'verdict', 'is', 'buy', 'toprating'], ['lol', 'all', 'these', 'shorties', 'are', 'dreaming', 'of', 'great', 'depression', 'or', 'somethin', 'loll'], ['just', 'updated', 'hormel', 'food', 'dividend', 'king', 'stock', 'analysis', 'hormel', 'food', 'hrl', 'stock', 'analysis', 'dividend', 'king', 'consumer', 'defensive'], ['today', 'insight', 'on', 'tool', 'dal'], ['just', 'updated', 'intel', 'valuation', 'profitability', 'and', 'dividend', 'safety', 'score', 'analysis', 'intel', 'intc', 'stock', 'analysis', 'dividend', 'technology'], ['today', 'insight', 'on', 'tool', 'mpc'], ['the', 'long', 'and', 'short', 'term', 'trend', 'are', 'both', 'positive', 'this', 'is', 'looking', 'good', 'analyze', 'php', 'utm', 'source', 'stocktwits', 'amp', 'utm', 'medium', 'ta', 'amp', 'utm', 'content', 'ta', 'amp', 'utm', 'campaign', 'social', 'tracking', 'chk', 'key', 'df', 'cb', 'ddbd', 'da'], ['they', 'so', 'mad', 'at', 'me', 'still'], ['back', 'to', 'by', 'july'], ['report', 'and', 'block', 'this', 'person', 'spam'], ['should', 'open', 'at', 'on', 'monday'], ['my', 'projection', 'for', 'if', 'thats', 'true', 'under', 'is', 'next', 'week', 'thats', 'why', 'prefer', 'to', 'buy', 'from', 'support', 'level'], ['what', 'turd'], ['percent', 'short', 'volume', 'for', 'wa', 'on', 'tap'], ['wal', 'mart', 'dividend', 'aristocrat', 'wal', 'mart', 'wmt', 'stock', 'analysis', 'dividend', 'aristocrat', 'consumer', 'defensive', 'valueinvesting', 'dvb', 'aaamp'], ['looking', 'for', 'marriage', 'have', 'in', 'my', 'bank', 'account', 'with', 'in', 'stock', 'dm'], ['short', 'ratio', 'is', 'at', 'and', 'short', 'to', 'float', 'is', 'stock', 'alk', 'via'], ['to', 'that', 'bear', 'that', 'won', 'stop', 'posting', 'holding', 'big', 'short', 'position', 'over', 'weekend', 'calm', 'down', 'and', 'good', 'luck', 'lol'], ['the', 'chase', 'continues', 'hopefully', 'they', 'catch', 'him', 'before', 'lisa', 'announces', 'the', 'rd', 'win'], ['the', 'price', 'earnings', 'ratio', 'is', 'which', 'indicates', 'rather', 'cheap', 'valuation', 'of', 'analyze', 'php', 'utm', 'source', 'stocktwits', 'amp', 'utm', 'medium', 'fa', 'amp', 'utm', 'content', 'valuation', 'amp', 'utm', 'campaign', 'social', 'tracking', 'bbby', 'fa', 'amp', 'key', 'bb', 'afa', 'ecc', 'ace', 'be'], ['permamently', 'turned', 'me', 'off', 'of', 'option', 'trading', 'and', 'maybe', 'stock', 'altogether', 'manipulation', 'by', 'very', 'rich', 'to', 'make', 'me', 'very', 'poor', 'fuk', 'it'], ['is', 'down', 'almost', 'pct', 'from', 'it', 'week', 'high', 'it', 'about', 'time', 'for', 'buyback', 'got', 'more', 'share', 'in', 'my', 'account', 'though', 'from', 'drip'], ['option', 'volume', 'wa', 'normal', 'on', 'friday', 'with', 'contract', 'call', 'volume', 'wa', 'and', 'put', 'volume', 'wa', 'ukn'], ['thr', 'esq', 'netflix', 'get', 'green', 'light', 'appeal', 'court', 'challenge', 'fox', 'employment', 'contract', 'utm', 'source', 'sailthru', 'amp', 'utm', 'medium', 'email', 'amp', 'utm', 'campaign', 'thr', 'breaking', 'news', 'now', 'ehayden', 'amp', 'utm', 'term', 'hollywoodreporter', 'breakingnews']]\n"
     ]
    }
   ],
   "source": [
    "# TODO Implement\n",
    "\n",
    "tokenized = [preprocess(message) for message in messages]\n",
    "print(tokenized[0:100])"
   ]
  },
  {
   "cell_type": "markdown",
   "metadata": {},
   "source": [
    "### Bag of Words\n",
    "Now with all of our messages tokenized, we want to create a vocabulary and count up how often each word appears in our entire corpus. Use the [`Counter`](https://docs.python.org/3.1/library/collections.html#collections.Counter) function to count up all the tokens."
   ]
  },
  {
   "cell_type": "code",
   "execution_count": 7,
   "metadata": {},
   "outputs": [],
   "source": [
    "from collections import Counter\n",
    "\n",
    "flat_list = []\n",
    "for sublist in tokenized:\n",
    "    for item in sublist:\n",
    "        if(item):\n",
    "            flat_list.append(item)\n",
    "bow=Counter(flat_list)\n"
   ]
  },
  {
   "cell_type": "code",
   "execution_count": null,
   "metadata": {},
   "outputs": [],
   "source": []
  },
  {
   "cell_type": "markdown",
   "metadata": {},
   "source": [
    "### Frequency of Words Appearing in Message\n",
    "With our vocabulary, now we'll remove some of the most common words such as 'the', 'and', 'it', etc. These words don't contribute to identifying sentiment and are really common, resulting in a lot of noise in our input. If we can filter these out, then our network should have an easier time learning.\n",
    "\n",
    "We also want to remove really rare words that show up in a only a few twits. Here you'll want to divide the count of each word by the number of messages. Then remove words that only appear in some small fraction of the messages."
   ]
  },
  {
   "cell_type": "code",
   "execution_count": 8,
   "metadata": {},
   "outputs": [
    {
     "name": "stdout",
     "output_type": "stream",
     "text": [
      "['the', 'to', 'amp', 'utm', 'is', 'for', 'on', 'of', 'and', 'in', 'this', 'it', 'at', 'will', 'up', 'source', 'stock', 'are', 'stocktwits', 'metric']\n"
     ]
    },
    {
     "data": {
      "text/plain": [
       "58871"
      ]
     },
     "execution_count": 8,
     "metadata": {},
     "output_type": "execute_result"
    }
   ],
   "source": [
    "\"\"\"\n",
    "Set the following variables:\n",
    "    freqs\n",
    "    low_cutoff\n",
    "    high_cutoff\n",
    "    K_most_common\n",
    "\"\"\"\n",
    "\n",
    "# TODO Implement \n",
    "\n",
    "# Dictionart that contains the Frequency of words appearing in messages.\n",
    "# The key is the token and the value is the frequency of that word in the corpus.\n",
    "freqs = { key:value/len(tokenized) for key,value in bow.items()}\n",
    "import operator\n",
    "sorted_freqs=sorted(freqs.items(), key=operator.itemgetter(1), reverse = True)\n",
    "# Float that is the frequency cutoff. Drop words with a frequency that is lower or equal to this number.\n",
    "low_cutoff = 0.000001#pass\n",
    "\n",
    "# Integer that is the cut off for most common words. Drop words that are the `high_cutoff` most common words.\n",
    "high_cutoff = 20#pass\n",
    "\n",
    "# The k most common words in the corpus. Use `high_cutoff` as the k.\n",
    "K_most_common = [item[0] for item in sorted_freqs[0:high_cutoff]]\n",
    "\n",
    "\n",
    "filtered_words = [word for word in freqs if (freqs[word] > low_cutoff and word not in K_most_common)]\n",
    "print(K_most_common)\n",
    "len(filtered_words) "
   ]
  },
  {
   "cell_type": "markdown",
   "metadata": {},
   "source": [
    "### Updating Vocabulary by Removing Filtered Words\n",
    "Let's creat three variables that will help with our vocabulary."
   ]
  },
  {
   "cell_type": "code",
   "execution_count": 9,
   "metadata": {},
   "outputs": [
    {
     "name": "stdout",
     "output_type": "stream",
     "text": [
      "[['great', 'buy', 'ill', 'wait'], [], ['staanalystalert', 'jefferies', 'maintains', 'with', 'rating', 'hold', 'setting', 'target', 'price', 'usd', 'our', 'own', 'verdict', 'buy', 'toprating'], ['heard', 'there', 'guy', 'who', 'know', 'someone', 'who', 'think', 'somebody', 'know', 'something'], ['reveal', 'yourself'], ['why', 'drop', 'warren', 'buffet', 'taking', 'out', 'his', 'position'], ['bear', 'have', 'reason', 'pay', 'more', 'attention', 'ba'], ['ok', 'good', 'we', 're', 'not', 'dropping', 'price', 'over', 'weekend', 'lol'], ['daily', 'chart', 'we', 'need', 'get', 'back', 'above'], ['drop', 'per', 'week', 'after', 'spike', 'if', 'no', 'news', 'month', 'back', 'if', 'bo', 'then', 'bingo', 'what', 'odds'], ['strong', 'buy'], ['short', 'ratio', 'short', 'float', 'snp', 'via'], ['price', 'squeezing', 'perfect', 'place', 'an', 'option', 'straddle', 'near', 'supporting', 'trend'], ['start', 'new', 'monday', 'expect', 'strong', 'buy', 'volume', 'across', 'key', 'company', 'various', 'sector'], ['breakout', 'strategy', 'current', 'portfolio'], ['bull', 'have', 'reason', 'pay', 'more', 'attention', 'pfe'], ['catalyst', 'continuing', 'new', 'uptrend', 'pill', 'pack', 'buy', 'out', 'amazon', 'prime', 'day', 'earnings', 'test', 'break', 'soon'], ['ha', 'moved', 'check', 'out', 'movement', 'peer', 'aapl'], ['staanalystalert', 'mkm', 'partner', 'set', 'price', 'target', 'with', 'rating', 'buy', 'setting', 'target', 'price', 'usd', 'our', 'own', 'verdict', 'buy', 'toprating'], ['think', 'too', 'early', 'tell', 'what', 'going', 'happen', 'monday', 'even', 'with', 'current', 'news', 'about', 'output', 'there', 'still', 'so', 'many'], ['ha', 'current', 'ratio', 'so', 'financially', 'healthy', 'ha', 'no', 'problem', 'meeting', 'obligation', 'analyze', 'php', 'medium', 'fa', 'content', 'health', 'campaign', 'social', 'tracking', 'nke', 'fa', 'key', 'fee'], ['bullish', 'watch', 'setup', 'timeframes', 'bullish', 'twitter', 'twtr', 'michael', 'kor', 'blog', 'by'], ['just', 'short'], ['high', 'alert', 'next', 'week', 'gt', 'breakdown'], ['current', 'ratio', 'much', 'better', 'than', 'industry', 'average', 'analyze', 'php', 'medium', 'fa', 'content', 'health', 'campaign', 'social', 'tracking', 'fslr', 'fa', 'key', 'cf', 'ec', 'be'], ['miss', 'these', 'day'], ['if', 'break', 'confirms', 'next', 'week', 'you', 'see', 'violent', 'move', 'downward', 'my', 'buy', 'price'], ['bear', 'have', 'reason', 'pay', 'more', 'attention', 'cv'], ['breakout', 'base', 'gap', 'day', 'ma', 'gap', 'gap', 'gap', 'day', 'ma'], ['cabot', 'weekly', 'video', 'quot', 'resilient', 'growth', 'watch', 'quot', 'kj', 'fnd']]\n"
     ]
    }
   ],
   "source": [
    "\"\"\"\n",
    "Set the following variables:\n",
    "    vocab\n",
    "    id2vocab\n",
    "    filtered\n",
    "\"\"\"\n",
    "\n",
    "#TODO Implement\n",
    "\n",
    "# A dictionary for the `filtered_words`. The key is the word and value is an id that represents the word. \n",
    "vocab = {word:ii for ii,word in enumerate(filtered_words,1)}#pass\n",
    "#print(vocab)\n",
    "# Reverse of the `vocab` dictionary. The key is word id and value is the word. \n",
    "id2vocab = {ii:word for ii,word in enumerate(filtered_words,1)}\n",
    "#print(id2vocab)\n",
    "# tokenized with the words not in `filtered_words` removed.\n",
    "filtered = [[word for word in token if word in vocab] for token in tokenized]\n",
    "\n",
    "print(filtered[0:30])"
   ]
  },
  {
   "cell_type": "markdown",
   "metadata": {},
   "source": [
    "### Balancing the classes\n",
    "Let's do a few last pre-processing steps. If we look at how our twits are labeled, we'll find that 50% of them are neutral. This means that our network will be 50% accurate just by guessing 0 every single time. To help our network learn appropriately, we'll want to balance our classes.\n",
    "That is, make sure each of our different sentiment scores show up roughly as frequently in the data.\n",
    "\n",
    "What we can do here is go through each of our examples and randomly drop twits with neutral sentiment. What should be the probability we drop these twits if we want to get around 20% neutral twits starting at 50% neutral? We should also take this opportunity to remove messages with length 0."
   ]
  },
  {
   "cell_type": "code",
   "execution_count": 10,
   "metadata": {},
   "outputs": [],
   "source": [
    "balanced = {'messages': [], 'sentiments':[]}\n",
    "\n",
    "n_neutral = sum(1 for each in sentiments if each == 2)\n",
    "N_examples = len(sentiments)\n",
    "keep_prob = (N_examples - n_neutral)/4/n_neutral\n",
    "\n",
    "for idx, sentiment in enumerate(sentiments):\n",
    "    message = filtered[idx]\n",
    "    if len(message) == 0:\n",
    "        # skip this message because it has length zero\n",
    "        continue\n",
    "    elif sentiment != 2 or random.random() < keep_prob:\n",
    "        balanced['messages'].append(message)\n",
    "        balanced['sentiments'].append(sentiment) "
   ]
  },
  {
   "cell_type": "markdown",
   "metadata": {},
   "source": [
    "If you did it correctly, you should see the following result "
   ]
  },
  {
   "cell_type": "code",
   "execution_count": 11,
   "metadata": {},
   "outputs": [
    {
     "data": {
      "text/plain": [
       "0.19639405609825059"
      ]
     },
     "execution_count": 11,
     "metadata": {},
     "output_type": "execute_result"
    }
   ],
   "source": [
    "n_neutral = sum(1 for each in balanced['sentiments'] if each == 2)\n",
    "N_examples = len(balanced['sentiments'])\n",
    "n_neutral/N_examples"
   ]
  },
  {
   "cell_type": "markdown",
   "metadata": {},
   "source": [
    "Finally let's convert our tokens into integer ids which we can pass to the network."
   ]
  },
  {
   "cell_type": "code",
   "execution_count": 12,
   "metadata": {},
   "outputs": [],
   "source": [
    "token_ids = [[vocab[word] for word in message] for message in balanced['messages']]\n",
    "sentiments = balanced['sentiments']"
   ]
  },
  {
   "cell_type": "markdown",
   "metadata": {},
   "source": [
    "## Neural Network\n",
    "Now we have our vocabulary which means we can transform our tokens into ids, which are then passed to our network. So, let's define the network now!\n",
    "\n",
    "Here is a nice diagram showing the network we'd like to build: \n",
    "\n",
    "#### Embed -> RNN -> Dense -> Softmax\n",
    "### Implement the text classifier\n",
    "Before we build text classifier, if you remember from the other network that you built in  \"Sentiment Analysis with an RNN\"  exercise  - which there, the network called \" SentimentRNN\", here we named it \"TextClassifer\" - consists of three main parts: 1) init function `__init__` 2) forward pass `forward`  3) hidden state `init_hidden`. \n",
    "\n",
    "This network is pretty similar to the network you built expect in the  `forward` pass, we use softmax instead of sigmoid. The reason we are not using sigmoid is that the output of NN is not a binary. In our network, sentiment scores have 5 possible outcomes. We are looking for an outcome with the highest probability thus softmax is a better choice."
   ]
  },
  {
   "cell_type": "code",
   "execution_count": 21,
   "metadata": {},
   "outputs": [],
   "source": [
    "class TextClassifier(nn.Module):\n",
    "    def __init__(self, vocab_size, embed_size, lstm_size, output_size, lstm_layers=1, dropout=0.1):\n",
    "        \"\"\"\n",
    "        Initialize the model by setting up the layers.\n",
    "        \n",
    "        Parameters\n",
    "        ----------\n",
    "            vocab_size : The vocabulary size.\n",
    "            embed_size : The embedding layer size.\n",
    "            lstm_size : The LSTM layer size.\n",
    "            output_size : The output size.\n",
    "            lstm_layers : The number of LSTM layers.\n",
    "            dropout : The dropout probability.\n",
    "        \"\"\"\n",
    "        \n",
    "        super().__init__()\n",
    "        self.vocab_size = vocab_size\n",
    "        self.embed_size = embed_size\n",
    "        self.lstm_size = lstm_size\n",
    "        self.output_size = output_size\n",
    "        self.lstm_layers = lstm_layers\n",
    "        self.dropout = dropout\n",
    "        # TODO Implement\n",
    "\n",
    "        # Setup embedding layer\n",
    "        self.embedding = nn.Embedding(self.vocab_size,self.embed_size)\n",
    "        self.lstm = nn.LSTM(self.embed_size,self.lstm_size,self.lstm_layers,dropout=self.dropout,batch_first=False)\n",
    "        \n",
    "        self.dropout_layer = nn.Dropout(self.dropout)\n",
    "        \n",
    "        self.fc=nn.Linear(self.lstm_size,self.output_size)\n",
    "        self.soft=nn.LogSoftmax()\n",
    "        \n",
    "\n",
    "\n",
    "    def init_hidden(self, batch_size):\n",
    "        \"\"\" \n",
    "        Initializes hidden state\n",
    "        \n",
    "        Parameters\n",
    "        ----------\n",
    "            batch_size : The size of batches.\n",
    "        \n",
    "        Returns\n",
    "        -------\n",
    "            hidden_state\n",
    "            \n",
    "        \"\"\"\n",
    "        \n",
    "        # TODO Implement \n",
    "        \n",
    "        # Create two new tensors with sizes n_layers x batch_size x hidden_dim,\n",
    "        # initialized to zero, for hidden state and cell state of LSTM\n",
    "        weight = next(self.parameters()).data\n",
    "        hidden = (weight.new(self.lstm_layers, batch_size, self.lstm_size).zero_(),\n",
    "                      weight.new(self.lstm_layers, batch_size, self.lstm_size).zero_())\n",
    "\n",
    "        return hidden\n",
    "\n",
    "\n",
    "    def forward(self, nn_input, hidden_state):\n",
    "        \"\"\"\n",
    "        Perform a forward pass of our model on nn_input.\n",
    "        \n",
    "        Parameters\n",
    "        ----------\n",
    "            nn_input : The batch of input to the NN.\n",
    "            hidden_state : The LSTM hidden state.\n",
    "\n",
    "        Returns\n",
    "        -------\n",
    "            logps: log softmax output\n",
    "            hidden_state: The new hidden state.\n",
    "\n",
    "        \"\"\"\n",
    "        \n",
    "        # TODO Implement \n",
    "        batch_size=nn_input.size(0)\n",
    "        embeds=self.embedding(nn_input)\n",
    "        out_lstm,hidden_lstm=self.lstm(embeds,hidden_state)\n",
    "        out_lstm = out_lstm[-1,:,:]#out_lstm.contiguous().view(-1, self.lstm_size)\n",
    "        \n",
    "        out=self.dropout_layer(out_lstm)\n",
    "        out=self.fc(out)\n",
    "        \n",
    "        soft_out=self.soft(out)\n",
    "        \n",
    "        #soft_out = soft_out.view(batch_size, -1)\n",
    "        #soft_out = soft_out[:, -1]\n",
    "        # return last sigmoid output and hidden state\n",
    "        return soft_out, hidden"
   ]
  },
  {
   "cell_type": "markdown",
   "metadata": {},
   "source": [
    "### View Model"
   ]
  },
  {
   "cell_type": "code",
   "execution_count": 22,
   "metadata": {},
   "outputs": [
    {
     "name": "stdout",
     "output_type": "stream",
     "text": [
      "tensor([[-1.5847, -1.7012, -1.7076, -1.7344, -1.3676],\n",
      "        [-1.5931, -1.7030, -1.7071, -1.7326, -1.3612],\n",
      "        [-1.5811, -1.6840, -1.7069, -1.7465, -1.3751],\n",
      "        [-1.5810, -1.6743, -1.7284, -1.7444, -1.3686]])\n"
     ]
    },
    {
     "name": "stderr",
     "output_type": "stream",
     "text": [
      "/opt/conda/lib/python3.6/site-packages/ipykernel_launcher.py:86: UserWarning: Implicit dimension choice for log_softmax has been deprecated. Change the call to include dim=X as an argument.\n"
     ]
    }
   ],
   "source": [
    "model = TextClassifier(len(vocab), 10, 6, 5, dropout=0.1, lstm_layers=2)\n",
    "model.embedding.weight.data.uniform_(-1, 1)\n",
    "input = torch.randint(0, 1000, (5, 4), dtype=torch.int64)\n",
    "hidden = model.init_hidden(4)\n",
    "\n",
    "logps, _ = model.forward(input, hidden)\n",
    "print(logps)"
   ]
  },
  {
   "cell_type": "markdown",
   "metadata": {},
   "source": [
    "## Training\n",
    "### DataLoaders and Batching\n",
    "Now we should build a generator that we can use to loop through our data. It'll be more efficient if we can pass our sequences in as batches. Our input tensors should look like `(sequence_length, batch_size)`. So if our sequences are 40 tokens long and we pass in 25 sequences, then we'd have an input size of `(40, 25)`.\n",
    "\n",
    "If we set our sequence length to 40, what do we do with messages that are more or less than 40 tokens? For messages with fewer than 40 tokens, we will pad the empty spots with zeros. We should be sure to **left** pad so that the RNN starts from nothing before going through the data. If the message has 20 tokens, then the first 20 spots of our 40 long sequence will be 0. If a message has more than 40 tokens, we'll just keep the first 40 tokens."
   ]
  },
  {
   "cell_type": "code",
   "execution_count": 23,
   "metadata": {},
   "outputs": [],
   "source": [
    "def dataloader(messages, labels, sequence_length=30, batch_size=32, shuffle=False):\n",
    "    \"\"\" \n",
    "    Build a dataloader.\n",
    "    \"\"\"\n",
    "    if shuffle:\n",
    "        indices = list(range(len(messages)))\n",
    "        random.shuffle(indices)\n",
    "        messages = [messages[idx] for idx in indices]\n",
    "        labels = [labels[idx] for idx in indices]\n",
    "\n",
    "    total_sequences = len(messages)\n",
    "\n",
    "    for ii in range(0, total_sequences, batch_size):\n",
    "        batch_messages = messages[ii: ii+batch_size]\n",
    "        \n",
    "        # First initialize a tensor of all zeros\n",
    "        batch = torch.zeros((sequence_length, len(batch_messages)), dtype=torch.int64)\n",
    "        for batch_num, tokens in enumerate(batch_messages):\n",
    "            token_tensor = torch.tensor(tokens)\n",
    "            # Left pad!\n",
    "            start_idx = max(sequence_length - len(token_tensor), 0)\n",
    "            batch[start_idx:, batch_num] = token_tensor[:sequence_length]\n",
    "        \n",
    "        label_tensor = torch.tensor(labels[ii: ii+len(batch_messages)])\n",
    "        \n",
    "        yield batch, label_tensor"
   ]
  },
  {
   "cell_type": "markdown",
   "metadata": {},
   "source": [
    "### Training and  Validation\n",
    "With our data in nice shape, we'll split it into training and validation sets."
   ]
  },
  {
   "cell_type": "code",
   "execution_count": 24,
   "metadata": {},
   "outputs": [],
   "source": [
    "\"\"\"\n",
    "Split data into training and validation datasets. Use an appropriate split size.\n",
    "The features are the `token_ids` and the labels are the `sentiments`.\n",
    "\"\"\"   \n",
    "split_frac = 0.8\n",
    "\n",
    "\n",
    "split_idx=int(len(token_ids)*0.8)\n",
    "# TODO Implement \n",
    "\n",
    "train_features = token_ids[:split_idx]\n",
    "valid_features = token_ids[split_idx:]\n",
    "train_labels = sentiments[:split_idx]\n",
    "valid_labels = sentiments[split_idx:]"
   ]
  },
  {
   "cell_type": "code",
   "execution_count": 25,
   "metadata": {},
   "outputs": [
    {
     "name": "stderr",
     "output_type": "stream",
     "text": [
      "/opt/conda/lib/python3.6/site-packages/ipykernel_launcher.py:86: UserWarning: Implicit dimension choice for log_softmax has been deprecated. Change the call to include dim=X as an argument.\n"
     ]
    }
   ],
   "source": [
    "text_batch, labels = next(iter(dataloader(train_features, train_labels, sequence_length=20, batch_size=64)))\n",
    "model = TextClassifier(len(vocab)+1, 200, 128, 5, dropout=0.)\n",
    "hidden = model.init_hidden(64)\n",
    "logps, hidden = model.forward(text_batch, hidden)"
   ]
  },
  {
   "cell_type": "markdown",
   "metadata": {},
   "source": [
    "### Training\n",
    "It's time to train the neural network!"
   ]
  },
  {
   "cell_type": "code",
   "execution_count": 18,
   "metadata": {},
   "outputs": [
    {
     "data": {
      "text/plain": [
       "TextClassifier(\n",
       "  (embedding): Embedding(58872, 1024)\n",
       "  (lstm): LSTM(1024, 512, num_layers=2, dropout=0.2)\n",
       "  (dropout_layer): Dropout(p=0.2)\n",
       "  (fc): Linear(in_features=512, out_features=5, bias=True)\n",
       "  (soft): LogSoftmax()\n",
       ")"
      ]
     },
     "execution_count": 18,
     "metadata": {},
     "output_type": "execute_result"
    }
   ],
   "source": [
    "device = torch.device(\"cuda\" if torch.cuda.is_available() else \"cpu\")\n",
    "\n",
    "model = TextClassifier(len(vocab)+1, 1024, 512, 5, lstm_layers=2, dropout=0.2)\n",
    "model.embedding.weight.data.uniform_(-1, 1)\n",
    "model.to(device)"
   ]
  },
  {
   "cell_type": "code",
   "execution_count": null,
   "metadata": {},
   "outputs": [],
   "source": [
    "\"\"\"\n",
    "Train your model with dropout. Make sure to clip your gradients.\n",
    "Print the training loss, validation loss, and validation accuracy for every 100 steps.\n",
    "\"\"\"\n",
    "\n",
    "epochs = 5\n",
    "batch_size = 1024\n",
    "learning_rate = 0.001\n",
    "clip = 5\n",
    "print_every = 100\n",
    "criterion = nn.NLLLoss()\n",
    "optimizer = optim.Adam(model.parameters(), lr=learning_rate)\n",
    "model.train()\n",
    "\n",
    "for epoch in range(epochs):\n",
    "    print('Starting epoch {}'.format(epoch + 1))\n",
    "    \n",
    "    steps = 0\n",
    "    for text_batch, labels in dataloader(\n",
    "            train_features, train_labels, batch_size=batch_size, sequence_length=20, shuffle=True):\n",
    "        steps += 1\n",
    "        hidden = model.init_hidden(batch_size)\n",
    "        \n",
    "        # Set Device\n",
    "        text_batch, labels = text_batch.to(device), labels.to(device)\n",
    "        for each in hidden:\n",
    "            each.to(device)\n",
    "        h = tuple([each.data for each in hidden])\n",
    "\n",
    "        # zero accumulated gradients\n",
    "        model.zero_grad()\n",
    "\n",
    "        # get the output from the model\n",
    "        output, h = model(text_batch, h)\n",
    "        # TODO Implement: Train Model\n",
    "        # calculate the loss and perform backprop\n",
    "        loss = criterion(output.squeeze(), labels)\n",
    "        loss.backward()\n",
    "        # `clip_grad_norm` helps prevent the exploding gradient problem in RNNs / LSTMs.\n",
    "        nn.utils.clip_grad_norm_(model.parameters(), clip)\n",
    "        optimizer.step()\n",
    "        \n",
    "        if steps % print_every == 0:\n",
    "            model.eval()\n",
    "            validation_h = model.init_hidden(batch_size)\n",
    "            val_losses = []\n",
    "            accuracy = []\n",
    "            for text_batch, labels in dataloader(valid_features, valid_labels, batch_size=batch_size, sequence_length=20, shuffle=True):\n",
    "                text_batch, labels = text_batch.to(device), labels.to(device)\n",
    "                for each in validation_h:\n",
    "                    each.to(device)\n",
    "                validation_h = tuple([each.data for each in validation_h])\n",
    "                #print(shape(validat))\n",
    "                valid_output, validation_h  = model(text_batch, validation_h )\n",
    "                valid_loss = criterion(valid_output.squeeze(), labels.long())\n",
    "                val_losses.append(valid_loss.item())\n",
    "                ps = torch.exp(valid_output)\n",
    "                top_p, top_class = ps.topk(1, dim=1)\n",
    "                view=labels.view(*top_class.shape)\n",
    "                equals = top_class == view\n",
    "                accuracy.append(torch.mean(equals.type(torch.FloatTensor)).item())\n",
    "            # TODO Implement: Print metrics\n",
    "            \n",
    "            model.train()\n",
    "            print(' Epoch: {}/{}...'.format(epoch+1, epochs))\n",
    "            print(' Step: {}...'.format(steps))\n",
    "            print(' Train Loss: {:.6f}...'.format(loss.item()))\n",
    "            print(' Valid Loss: {:.6f}'.format(np.mean(val_losses)))\n",
    "            print(' Accuracy: {:.6f}'.format(np.mean(accuracy)))"
   ]
  },
  {
   "cell_type": "markdown",
   "metadata": {},
   "source": [
    "## Making Predictions\n",
    "### Prediction \n",
    "Okay, now that you have a trained model, try it on some new twits and see if it works appropriately. Remember that for any new text, you'll need to preprocess it first before passing it to the network. Implement the `predict` function to generate the prediction vector from a message."
   ]
  },
  {
   "cell_type": "code",
   "execution_count": null,
   "metadata": {},
   "outputs": [],
   "source": [
    "import numpy as np\n",
    "def predict(text, model, vocab):\n",
    "    \"\"\" \n",
    "    Make a prediction on a single sentence.\n",
    "\n",
    "    Parameters\n",
    "    ----------\n",
    "        text : The string to make a prediction on.\n",
    "        model : The model to use for making the prediction.\n",
    "        vocab : Dictionary for word to word ids. The key is the word and the value is the word id.\n",
    "\n",
    "    Returns\n",
    "    -------\n",
    "        pred : Prediction vector\n",
    "    \"\"\"    \n",
    "    \n",
    "    # TODO Implement\n",
    "    \n",
    "    tokens = preprocess(text)\n",
    "    \n",
    "    # Filter non-vocab words\n",
    "    tokens = [c for c in tokens if c in vocab]\n",
    "    # Convert words to ids\n",
    "    tokens = [vocab[word] for word in tokens]\n",
    "        \n",
    "    # Adding a batch dimension\n",
    "    text_input = torch.from_numpy(np.asarray(torch.FloatTensor(tokens).view(-1, 1)))\n",
    "    # Get the NN output\n",
    "    hidden = model.init_hidden(1)\n",
    "    logps, _ = model.forward(text_input, hidden)\n",
    "    # Take the exponent of the NN output to get a range of 0 to 1 for each label.\n",
    "    pred =  torch.exp(logps)\n",
    "    \n",
    "    return pred"
   ]
  },
  {
   "cell_type": "code",
   "execution_count": null,
   "metadata": {},
   "outputs": [],
   "source": [
    "text = \"Google is working on self driving cars, I'm bullish on $goog\"\n",
    "model.eval()\n",
    "model.to(\"cpu\")\n",
    "predict(text, model, vocab)"
   ]
  },
  {
   "cell_type": "markdown",
   "metadata": {},
   "source": [
    "### Questions: What is the prediction of the model? What is the uncertainty of the prediction?\n",
    "** TODO: Answer Question**"
   ]
  },
  {
   "cell_type": "markdown",
   "metadata": {},
   "source": [
    "Now we have a trained model and we can make predictions. We can use this model to track the sentiments of various stocks by predicting the sentiments of twits as they are coming in. Now we have a stream of twits. For each of those twits, pull out the stocks mentioned in them and keep track of the sentiments. Remember that in the twits, ticker symbols are encoded with a dollar sign as the first character, all caps, and 2-4 letters, like $AAPL. Ideally, you'd want to track the sentiments of the stocks in your universe and use this as a signal in your larger model(s).\n",
    "\n",
    "## Testing\n",
    "### Load the Data "
   ]
  },
  {
   "cell_type": "code",
   "execution_count": null,
   "metadata": {},
   "outputs": [],
   "source": [
    "with open(os.path.join('..', '..', 'data', 'project_6_stocktwits', 'test_twits.json'), 'r') as f:\n",
    "    test_data = json.load(f)"
   ]
  },
  {
   "cell_type": "markdown",
   "metadata": {},
   "source": [
    "### Twit Stream"
   ]
  },
  {
   "cell_type": "code",
   "execution_count": null,
   "metadata": {},
   "outputs": [],
   "source": [
    "def twit_stream():\n",
    "    for twit in test_data['data']:\n",
    "        yield twit\n",
    "\n",
    "next(twit_stream())"
   ]
  },
  {
   "cell_type": "markdown",
   "metadata": {},
   "source": [
    "Using the `prediction` function, let's apply it to a stream of twits."
   ]
  },
  {
   "cell_type": "code",
   "execution_count": null,
   "metadata": {},
   "outputs": [],
   "source": [
    "def score_twits(stream, model, vocab, universe):\n",
    "    \"\"\" \n",
    "    Given a stream of twits and a universe of tickers, return sentiment scores for tickers in the universe.\n",
    "    \"\"\"\n",
    "    for twit in stream:\n",
    "\n",
    "        # Get the message text\n",
    "        text = twit['message_body']\n",
    "        symbols = re.findall('\\$[A-Z]{2,4}', text)\n",
    "        score = predict(text, model, vocab)\n",
    "\n",
    "        for symbol in symbols:\n",
    "            if symbol in universe:\n",
    "                yield {'symbol': symbol, 'score': score, 'timestamp': twit['timestamp']}"
   ]
  },
  {
   "cell_type": "code",
   "execution_count": null,
   "metadata": {},
   "outputs": [],
   "source": [
    "universe = {'$BBRY', '$AAPL', '$AMZN', '$BABA', '$YHOO', '$LQMT', '$FB', '$GOOG', '$BBBY', '$JNUG', '$SBUX', '$MU'}\n",
    "score_stream = score_twits(twit_stream(), model, vocab, universe)\n",
    "\n",
    "next(score_stream)"
   ]
  },
  {
   "cell_type": "markdown",
   "metadata": {},
   "source": []
  },
  {
   "cell_type": "markdown",
   "metadata": {},
   "source": [
    "That's it. You have successfully built a model for sentiment analysis! "
   ]
  },
  {
   "cell_type": "markdown",
   "metadata": {},
   "source": [
    "## Submission\n",
    "Now that you're done with the project, it's time to submit it. Click the submit button in the bottom right. One of our reviewers will give you feedback on your project with a pass or not passed grade. You can continue to the next section while you wait for feedback."
   ]
  },
  {
   "cell_type": "code",
   "execution_count": null,
   "metadata": {},
   "outputs": [],
   "source": []
  },
  {
   "cell_type": "code",
   "execution_count": null,
   "metadata": {},
   "outputs": [],
   "source": []
  }
 ],
 "metadata": {
  "kernelspec": {
   "display_name": "Python 3",
   "language": "python",
   "name": "python3"
  },
  "language_info": {
   "codemirror_mode": {
    "name": "ipython",
    "version": 3
   },
   "file_extension": ".py",
   "mimetype": "text/x-python",
   "name": "python",
   "nbconvert_exporter": "python",
   "pygments_lexer": "ipython3",
   "version": "3.6.3"
  }
 },
 "nbformat": 4,
 "nbformat_minor": 2
}
